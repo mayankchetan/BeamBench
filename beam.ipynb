{
 "cells": [
  {
   "cell_type": "code",
   "execution_count": 1,
   "metadata": {},
   "outputs": [],
   "source": [
    "import numpy as np\n",
    "import matplotlib.pyplot as plt\n",
    "from utils import *\n",
    "import welib.fast.beamdyn as bd"
   ]
  },
  {
   "cell_type": "code",
   "execution_count": null,
   "metadata": {},
   "outputs": [],
   "source": [
    "# general parameters for the beams\n",
    "beamLength = 10.0 # meters\n",
    "\n",
    "# material properties for isotropic, structural steel\n",
    "E = 200e9 # Young's modulus, Pa\n",
    "rho = 7850 # density, kg/m^3\n",
    "G = 77e9 #\n",
    "nu = 0.3 # Poisson's ratio\n",
    "\n",
    "# # material properties for simple composite, glass fiber\n",
    "# E_11 = 38e9 # Young's modulus, Pa\n",
    "# E_22 = 9e9 # Young's modulus, Pa\n",
    "# G_12 = 4e9 # Shear modulus, Pa\n",
    "# rho = 2000 # density, kg/m^3\n",
    "# nu_12 = 0.25 # Poisson's ratio\n",
    "# nu_21 = E_22/E_11*nu_12\n",
    "\n",
    "\n"
   ]
  },
  {
   "cell_type": "code",
   "execution_count": null,
   "metadata": {},
   "outputs": [],
   "source": [
    "# Defining the square cross-section\n",
    "b = 0.1\n",
    "square = rectangle(b=b, h=b, mesh_size=0.1, v=nu)\n",
    "square.KK = bd.KK(E * square.area, E * square.Ixx, E * square.Iyy, G * square.J, G * square.area, square.kx, square.ky, x_C=0, y_C=0, theta_p=0, x_S=0, y_S=0, theta_s=0)\n",
    "square.MM = "
   ]
  }
 ],
 "metadata": {
  "kernelspec": {
   "display_name": "Python 3",
   "language": "python",
   "name": "python3"
  },
  "language_info": {
   "codemirror_mode": {
    "name": "ipython",
    "version": 3
   },
   "file_extension": ".py",
   "mimetype": "text/x-python",
   "name": "python",
   "nbconvert_exporter": "python",
   "pygments_lexer": "ipython3",
   "version": "3.12.7"
  }
 },
 "nbformat": 4,
 "nbformat_minor": 2
}
